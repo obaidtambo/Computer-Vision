{
  "nbformat": 4,
  "nbformat_minor": 0,
  "metadata": {
    "colab": {
      "provenance": []
    },
    "kernelspec": {
      "name": "python3",
      "display_name": "Python 3"
    },
    "language_info": {
      "name": "python"
    }
  },
  "cells": [
    {
      "cell_type": "code",
      "execution_count": null,
      "metadata": {
        "id": "GwN8gqXRsU3i"
      },
      "outputs": [],
      "source": []
    },
    {
      "cell_type": "markdown",
      "metadata": {
        "id": "FLiXLOEMI5bC"
      },
      "source": [
        "# Optic flow  and Lucas Kadane-feature tracking"
      ]
    },
    {
      "cell_type": "code",
      "execution_count": null,
      "metadata": {
        "colab": {
          "base_uri": "https://localhost:8080/"
        },
        "id": "uecI7AXRJJ2I",
        "outputId": "2626ead7-abd7-468c-cf1f-8320516bdc51"
      },
      "outputs": [
        {
          "name": "stdout",
          "output_type": "stream",
          "text": [
            "Mounted at /content/drive\n"
          ]
        }
      ],
      "source": [
        "from google.colab import drive\n",
        "drive.mount('/content/drive')"
      ]
    },
    {
      "cell_type": "code",
      "execution_count": null,
      "metadata": {
        "colab": {
          "background_save": true
        },
        "id": "4v25cQXZI84o"
      },
      "outputs": [],
      "source": [
        "feature_params = dict(maxCorners = 300, qualityLevel = 0.2, minDistance = 2, blockSize = 7)\n",
        "lk_params = dict(winSize = (15, 15), maxLevel = 2, criteria = (cv2.TERM_CRITERIA_EPS | cv2.TERM_CRITERIA_COUNT, 10, 0.03))\n",
        "cap = cv2.VideoCapture(\"/content/29916312_cars-moving-on-the-highway_by_filmworkstock_preview.mp4\")\n",
        "color = (0,255,0)\n",
        "ret, first_frame = cap.read()\n",
        "prev_gray = cv2.cvtColor(first_frame, cv2.COLOR_BGR2GRAY)\n",
        "prev = cv2.goodFeaturesToTrack(prev_gray, mask = None, **feature_params)\n",
        "mask = np.zeros_like(first_frame)\n",
        "while (cap.isOpened()):\n",
        "  ret, frame = cap.read()\n",
        "  gray = cv2.cvtColor(frame, cv2.COLOR_BGR2GRAY)\n",
        "  prev = cv2.goodFeaturesToTrack(prev_gray, mask=None, **feature_params)\n",
        "  next, status, error = cv2.calcOpticalFlowPyrLK(prev_gray, gray, prev, None, **lk_params)\n",
        "  good_old = prev[status == 1].astype(int)\n",
        "  good_new = next[status == 1].astype(int)\n",
        "  for i, (new, old) in enumerate(zip(good_new, good_old)):\n",
        "    a, b = new.ravel()\n",
        "    c, d = old.ravel()\n",
        "    mask = cv2.line(mask, (a, b), (c, d), color, 2)\n",
        "    frame = cv2.circle(frame, (a, b), 3, color, -1)\n",
        "  output = cv2.add(frame, mask)\n",
        "  prev_gray = gray.copy()\n",
        "  prev = good_new.reshape(-1 , 2)\n",
        "  cv2_imshow(output)"
      ]
    },
    {
      "cell_type": "code",
      "execution_count": null,
      "metadata": {
        "colab": {
          "background_save": true
        },
        "id": "JXD2-WaBJbqz"
      },
      "outputs": [],
      "source": [
        "cap = cv2.VideoCapture(\"/content/29916312_cars-moving-on-the-highway_by_filmworkstock_preview.mp4\")\n",
        "ret, first_frame = cap.read()\n",
        "prev_gray = cv2.cvtColor(first_frame, cv2.COLOR_BGR2GRAY)\n",
        "mask = np.zeros_like(first_frame)\n",
        "mask[...,1] = 255\n",
        "while(cap.isOpened()):\n",
        "  ret, frame = cap.read()\n",
        "  cv2_imshow(frame)\n",
        "  gray = cv2.cvtColor(frame, cv2.COLOR_BGR2GRAY)\n",
        "  flow = cv2.calcOpticalFlowFarneback(prev_gray, gray, None, 0.5, 3, 15, 3, 5, 1.2, 0)\n",
        "  magnitude, angle = cv2.cartToPolar(flow[...,0], flow[...,1])\n",
        "  mask[...,0] = angle * 180 / np.pi / 2\n",
        "  mask[...,2] = cv2.normalize(magnitude, None, 0, 255, cv2.NORM_MINMAX)\n",
        "  rgb = cv2. cvtColor(mask, cv2.COLOR_HSV2BGR)\n",
        "  cv2_imshow(rgb)\n",
        "  prev_gray = gray"
      ]
    }
  ]
}