{
 "cells": [
  {
   "cell_type": "markdown",
   "id": "3d959483",
   "metadata": {},
   "source": [
    "Question 1\n"
   ]
  },
  {
   "cell_type": "code",
   "execution_count": 1,
   "id": "ad0891c1",
   "metadata": {},
   "outputs": [
    {
     "name": "stdout",
     "output_type": "stream",
     "text": [
      "Value of Y at x = 2 is 4.0\n"
     ]
    }
   ],
   "source": [
    "# linear intrepolation\n",
    "from scipy.interpolate import interp1d\n",
    " \n",
    "X = [0,3] #  x values 0 and 3\n",
    "Y = [2,5] # y values at 0, 3 resp\n",
    " \n",
    "# test value\n",
    "interpolate_x = 2\n",
    " \n",
    "# Finding the interpolation\n",
    "y_interp = interp1d(X, Y)\n",
    "print(\"Value of Y at x = {} is\".format(interpolate_x),\n",
    "      y_interp(interpolate_x))"
   ]
  },
  {
   "cell_type": "markdown",
   "id": "c174705c",
   "metadata": {},
   "source": [
    "Question 2"
   ]
  },
  {
   "cell_type": "code",
   "execution_count": 3,
   "id": "d8443724",
   "metadata": {},
   "outputs": [
    {
     "name": "stdout",
     "output_type": "stream",
     "text": [
      "[1.59807621 3.23205081 0.        ]\n"
     ]
    }
   ],
   "source": [
    "from scipy.spatial.transform import Rotation as R\n",
    "import numpy as np\n",
    "\n",
    "vec = [3,2,0]\n",
    "\n",
    "rotation_degrees = 30\n",
    "rotation_radians = np.radians(rotation_degrees)\n",
    "rotation_axis = np.array([0, 0, 1])\n",
    "\n",
    "rotation_vector = rotation_radians * rotation_axis\n",
    "rotation = R.from_rotvec(rotation_vector)\n",
    "rotated_vec = rotation.apply(vec)\n",
    "\n",
    "print(rotated_vec)"
   ]
  },
  {
   "cell_type": "code",
   "execution_count": 17,
   "id": "6b7222de",
   "metadata": {},
   "outputs": [
    {
     "data": {
      "text/plain": [
       "array([1.59807621, 3.23205081, 0.        ])"
      ]
     },
     "execution_count": 17,
     "metadata": {},
     "output_type": "execute_result"
    }
   ],
   "source": [
    "#  Single line code.\n",
    "r = R.from_rotvec(30 * np.array([0, 0, 1]), degrees=True)\n",
    "rotated_vec = r.apply([3,2,0])\n",
    "rotated_vec\n"
   ]
  },
  {
   "cell_type": "code",
   "execution_count": 18,
   "id": "cde7f7ab",
   "metadata": {},
   "outputs": [
    {
     "data": {
      "text/plain": [
       "array([ 6.59807621, 10.23205081,  0.        ])"
      ]
     },
     "execution_count": 18,
     "metadata": {},
     "output_type": "execute_result"
    }
   ],
   "source": [
    "#  Translation\n",
    "translation_vec=[5,7,0]\n",
    "translated_vec=rotated_vec+translation_vec\n",
    "translated_vec"
   ]
  },
  {
   "cell_type": "markdown",
   "id": "ba0c5c86",
   "metadata": {},
   "source": [
    "Question 3"
   ]
  },
  {
   "cell_type": "code",
   "execution_count": 2,
   "id": "5a00127e",
   "metadata": {},
   "outputs": [
    {
     "ename": "NameError",
     "evalue": "name 'np' is not defined",
     "output_type": "error",
     "traceback": [
      "\u001b[1;31m---------------------------------------------------------------------------\u001b[0m",
      "\u001b[1;31mNameError\u001b[0m                                 Traceback (most recent call last)",
      "Input \u001b[1;32mIn [2]\u001b[0m, in \u001b[0;36m<cell line: 23>\u001b[1;34m()\u001b[0m\n\u001b[0;32m     20\u001b[0m     fy\u001b[38;5;241m.\u001b[39mappend(fy_calc(i))\n\u001b[0;32m     22\u001b[0m \u001b[38;5;66;03m# convereting into matrix form\u001b[39;00m\n\u001b[1;32m---> 23\u001b[0m fx_matrix\u001b[38;5;241m=\u001b[39m\u001b[43mnp\u001b[49m\u001b[38;5;241m.\u001b[39mreshape(fx_matrix,(\u001b[38;5;28mlen\u001b[39m(x_val),\u001b[38;5;28mlen\u001b[39m(x_val)))\n\u001b[0;32m     24\u001b[0m \u001b[38;5;66;03m# print(fx_matrix)\u001b[39;00m\n\u001b[0;32m     25\u001b[0m \u001b[38;5;66;03m# print(fy)\u001b[39;00m\n\u001b[0;32m     26\u001b[0m \u001b[38;5;66;03m# resape  to convert into column matrix\u001b[39;00m\n\u001b[0;32m     27\u001b[0m fy_t\u001b[38;5;241m=\u001b[39mnp\u001b[38;5;241m.\u001b[39mreshape(fy,(\u001b[38;5;28mlen\u001b[39m(x_val),\u001b[38;5;241m1\u001b[39m))\n",
      "\u001b[1;31mNameError\u001b[0m: name 'np' is not defined"
     ]
    }
   ],
   "source": [
    "from math import sin, cos\n",
    "\n",
    "def fx_calc(x):\n",
    "        fx=[1,x,x**2]  ##fx_ function coefficients of a's\n",
    "#         print(fx)\n",
    "        return fx\n",
    "\n",
    "def fy_calc(x):\n",
    "        y= (x**2)/10 -2*sin(x)   ##fy_ function value of y\n",
    "        \n",
    "        return y    \n",
    "    \n",
    "        \n",
    "    \n",
    "x_val=[0,1,2]\n",
    "fx_matrix=[]\n",
    "fy=[]\n",
    "for i in x_val:\n",
    "    fx_matrix.append(fx_calc(i))\n",
    "    fy.append(fy_calc(i))\n",
    "\n",
    "# convereting into matrix form\n",
    "fx_matrix=np.reshape(fx_matrix,(len(x_val),len(x_val)))\n",
    "# print(fx_matrix)\n",
    "# print(fy)\n",
    "# resape  to convert into column matrix\n",
    "fy_t=np.reshape(fy,(len(x_val),1))\n",
    "# print(fy_t)\n",
    "#  taking inverse\n",
    "fx_inverse=np.linalg.inv(fx_matrix)\n",
    "\n",
    "# multiplying we get fx_inv*fy\n",
    "\n",
    "print(np.matrix(fx_inverse)*np.matrix(fy_t))\n",
    "\n",
    "\n",
    "#  valuse of a's are"
   ]
  },
  {
   "cell_type": "markdown",
   "id": "cf9193a8",
   "metadata": {},
   "source": [
    "Question 4\n"
   ]
  },
  {
   "cell_type": "code",
   "execution_count": 12,
   "id": "09ce6a89",
   "metadata": {},
   "outputs": [
    {
     "name": "stdout",
     "output_type": "stream",
     "text": [
      "[5, 7, 1]\n"
     ]
    }
   ],
   "source": [
    "non_homogenous=[5,7]\n",
    "homogenous = non_homogenous\n",
    "homogenous.append(1)\n",
    "print(homogenous)"
   ]
  },
  {
   "cell_type": "markdown",
   "id": "d847d5c5",
   "metadata": {},
   "source": [
    "Question 5"
   ]
  },
  {
   "cell_type": "code",
   "execution_count": 27,
   "id": "177289b7",
   "metadata": {},
   "outputs": [
    {
     "name": "stdout",
     "output_type": "stream",
     "text": [
      "[ 2. -1.] + t [ 0 -3 -3]\n"
     ]
    }
   ],
   "source": [
    "# vec r= r0+ vec d* t    some scalar\n",
    "# 2x+y−z=3; x-y+z=3?\n",
    "# setting z=0\n",
    "\n",
    "A = np.array([[2, 1], [1, -1]])\n",
    "B = np.array([3, 3])\n",
    "X = np.linalg.solve(A,B)\n",
    "X=X+[0]\n",
    "\n",
    "\n",
    "E1=np.array([2,1,-1])\n",
    "E2=np.array([1,-1,1])\n",
    "product_vec=np.cross(E1,E2)\n",
    "print(X,\"+ t\" ,product_vec)\n"
   ]
  },
  {
   "cell_type": "markdown",
   "id": "1da5d87b",
   "metadata": {},
   "source": [
    "Question 6"
   ]
  },
  {
   "cell_type": "markdown",
   "id": "29b98458",
   "metadata": {},
   "source": [
    "in homogenous Cordinates intersection of two lines is given by\n",
    "x = l ∩ m : x = l × m"
   ]
  },
  {
   "cell_type": "code",
   "execution_count": 28,
   "id": "e9d1c831",
   "metadata": {},
   "outputs": [
    {
     "data": {
      "text/plain": [
       "array([-8, 12,  0])"
      ]
     },
     "execution_count": 28,
     "metadata": {},
     "output_type": "execute_result"
    }
   ],
   "source": [
    "# 3x+2y+1=0 and 6x+4y−2=0.\n",
    "\n",
    "L=[3,2,1]\n",
    "M=[6,4,-2]\n",
    "\n",
    "#  intersection is \n",
    "X=np.cross(np.array(L),np.array(M))\n",
    "X\n",
    "#  the same cannot be expressed in Eucledian Space\n"
   ]
  },
  {
   "cell_type": "code",
   "execution_count": 41,
   "id": "498b00ba",
   "metadata": {},
   "outputs": [
    {
     "ename": "NameError",
     "evalue": "name 's' is not defined",
     "output_type": "error",
     "traceback": [
      "\u001b[1;31m---------------------------------------------------------------------------\u001b[0m",
      "\u001b[1;31mNameError\u001b[0m                                 Traceback (most recent call last)",
      "Input \u001b[1;32mIn [41]\u001b[0m, in \u001b[0;36m<cell line: 16>\u001b[1;34m()\u001b[0m\n\u001b[0;32m     14\u001b[0m sx\u001b[38;5;241m=\u001b[39m\u001b[38;5;241m2\u001b[39m\n\u001b[0;32m     15\u001b[0m sy\u001b[38;5;241m=\u001b[39m\u001b[38;5;241m3\u001b[39m\n\u001b[1;32m---> 16\u001b[0m C\u001b[38;5;241m=\u001b[39m[[\u001b[38;5;241m1\u001b[39m,sy\u001b[38;5;241m/\u001b[39m\u001b[38;5;241m2\u001b[39m,\u001b[38;5;241m0\u001b[39m],[\u001b[43ms\u001b[49m\u001b[38;5;241m/\u001b[39m\u001b[38;5;241m2\u001b[39m,\u001b[38;5;241m1\u001b[39m,\u001b[38;5;241m0\u001b[39m],[\u001b[38;5;241m0\u001b[39m,\u001b[38;5;241m0\u001b[39m,\u001b[38;5;241m1\u001b[39m]]\n\u001b[0;32m     17\u001b[0m C\u001b[38;5;241m=\u001b[39mnp\u001b[38;5;241m.\u001b[39mmatrix(C)\n\u001b[0;32m     18\u001b[0m A\u001b[38;5;241m=\u001b[39m[[\u001b[38;5;241m1\u001b[39m,\u001b[38;5;241m0\u001b[39m,sx,\u001b[38;5;241m0\u001b[39m],[\u001b[38;5;241m0\u001b[39m,\u001b[38;5;241m1\u001b[39m,sy,\u001b[38;5;241m0\u001b[39m],[\u001b[38;5;241m0\u001b[39m,\u001b[38;5;241m0\u001b[39m,\u001b[38;5;241m1\u001b[39m,\u001b[38;5;241m0\u001b[39m],[\u001b[38;5;241m0\u001b[39m,\u001b[38;5;241m0\u001b[39m,\u001b[38;5;241m0\u001b[39m,\u001b[38;5;241m1\u001b[39m]]\n",
      "\u001b[1;31mNameError\u001b[0m: name 's' is not defined"
     ]
    }
   ],
   "source": [
    "from math import sin, cos\n",
    "\n",
    "#  scaling in x direction where m is the scaling factor\n",
    "m=5\n",
    "A=[[1+m/2,0,0],[0,1-m/2,0],[0,0,1]]\n",
    "A=np.matrix(A)\n",
    "\n",
    "#  rotation along Z direction is given by\n",
    "theta = np.deg2rad(30)\n",
    "B = ([[cos(theta), -sin(theta),0],[sin(theta), cos(theta),0],[0,0,1]])\n",
    "B=np.matrix(B)\n",
    "\n",
    "# shear in both directions equally by scaling factor  s\n",
    "sx=2\n",
    "sy=3\n",
    "C=[[1,sy/2,0],[s/2,1,0],[0,0,1]]\n",
    "C=np.matrix(C)\n",
    "A=[[1,0,0,tx],[0,1,0,ty],[0,0,0,tz],[0,0,0,1]]\n"
   ]
  },
  {
   "cell_type": "code",
   "execution_count": 48,
   "id": "52e1cb79",
   "metadata": {},
   "outputs": [
    {
     "name": "stdout",
     "output_type": "stream",
     "text": [
      "[[ 4.33012702 -2.5         0.          8.48076211]\n",
      " [ 0.          0.          0.          0.        ]\n",
      " [ 0.          0.          0.          0.        ]\n",
      " [ 0.          0.          0.          1.        ]]\n"
     ]
    }
   ],
   "source": [
    "from math import sin, cos\n",
    "\n",
    "#  scaling in x direction where m is the scaling factor\n",
    "mx,my,mz=5,0,0\n",
    "A=[[mx,0,0,0],[0,my,0,0],[0,0,mz,0],[0,0,0,1]]\n",
    "A=np.matrix(A)\n",
    "\n",
    "#  rotation along Z direction is given by\n",
    "theta = np.deg2rad(30)\n",
    "B = ([[cos(theta), -sin(theta),0,0],[sin(theta), cos(theta),0,0],[0,0,1,0],[0,0,0,1]])\n",
    "B=np.matrix(B)\n",
    "\n",
    "\n",
    "# shear along the Z axis \n",
    "sx,sy=2,3\n",
    "C=[[1,0,sx,0],[0,1,sy,0],[0,0,1,0],[0,0,0,1]]\n",
    "C=np.matrix(C)\n",
    "\n",
    "#  transformation matrix\n",
    "\n",
    "tx,ty,tz=2,1,2\n",
    "D=[[1,0,0,tx],[0,1,0,ty],[0,0,0,tz],[0,0,0,1]]\n",
    "D=np.matrix(D)\n",
    "\n",
    "H=A*B*C*D\n",
    "print(H)\n",
    "\n",
    "\n",
    "\n",
    "\n"
   ]
  },
  {
   "cell_type": "markdown",
   "id": "879135e5",
   "metadata": {},
   "source": [
    "Question 7"
   ]
  },
  {
   "cell_type": "code",
   "execution_count": 52,
   "id": "40c1c5e1",
   "metadata": {},
   "outputs": [
    {
     "name": "stdout",
     "output_type": "stream",
     "text": [
      "H: \n",
      "[[2 0 0 8]\n",
      " [0 2 0 0]\n",
      " [0 0 0 5]\n",
      " [0 0 0 1]]\n",
      "[[12]\n",
      " [ 6]\n",
      " [ 5]\n",
      " [ 1]]\n"
     ]
    }
   ],
   "source": [
    "\n",
    "\n",
    "#  translation matrix\n",
    "tx,ty,tz=8,0,5\n",
    "D=[[1,0,0,tx],[0,1,0,ty],[0,0,0,tz],[0,0,0,1]]\n",
    "D=np.matrix(D)\n",
    "\n",
    "#  scaling in  direction where m is the scaling factor\n",
    "mx,my,mz=2,2,2\n",
    "S=[[mx,0,0,0],[0,my,0,0],[0,0,mz,0],[0,0,0,1]]\n",
    "S=np.matrix(S)\n",
    "# complete transformation\n",
    "H=D*S\n",
    "print(\"H: \")\n",
    "print(H)\n",
    "#  homogenous co-ordinates of A\n",
    "A=[2,3,9,1]\n",
    "A=np.matrix(A)\n",
    "At=np.transpose(A)\n",
    "\n",
    "print(H*At)\n",
    "\n",
    "\n",
    "\n",
    "\n",
    "\n"
   ]
  },
  {
   "cell_type": "markdown",
   "id": "697c1386",
   "metadata": {},
   "source": [
    "Question 8"
   ]
  },
  {
   "cell_type": "code",
   "execution_count": 6,
   "id": "0cdffeef",
   "metadata": {},
   "outputs": [
    {
     "name": "stdout",
     "output_type": "stream",
     "text": [
      "[[-3.06217783]\n",
      " [-8.69615242]\n",
      " [-9.        ]\n",
      " [ 1.        ]]\n"
     ]
    }
   ],
   "source": [
    "#  rotation along Z direction is given by\n",
    "theta = np.deg2rad(30)\n",
    "Z = ([[cos(theta), -sin(theta),0,0],[sin(theta), cos(theta),0,0],[0,0,1,0],[0,0,0,1]])\n",
    "Z=np.matrix(Z)\n",
    "\n",
    "#  rotation along X direction is given by\n",
    "theta = np.deg2rad(180)\n",
    "X = ([[1,0,0,0],[0,cos(theta), -sin(theta),0],[0,sin(theta), cos(theta),0],[0,0,0,1]])\n",
    "X=np.matrix(X)\n",
    "\n",
    "#  rotation along X direction is given by\n",
    "theta = np.deg2rad(90)\n",
    "Y = ([[cos(theta),0, sin(theta),0],[0,1,0,0],[-sin(theta),0, cos(theta),0],[0,0,0,1]])\n",
    "Y=np.matrix(Y)\n",
    "\n",
    "#  translation matrix\n",
    "tx,ty,tz=4,-3,7\n",
    "D=[[1,0,0,tx],[0,1,0,ty],[0,0,0,tz],[0,0,0,1]]\n",
    "D=np.matrix(D)\n",
    "\n",
    "#  homogenous co-ordinates of A\n",
    "A=[5,9,4,1]\n",
    "A=np.matrix(A)\n",
    "At=np.transpose(A)\n",
    "\n",
    "H=Z*Y*X*D\n",
    "print(H*At)\n",
    "\n"
   ]
  },
  {
   "cell_type": "markdown",
   "id": "a124c3e1",
   "metadata": {},
   "source": [
    "Question 9"
   ]
  },
  {
   "cell_type": "code",
   "execution_count": 126,
   "id": "18814dd7",
   "metadata": {},
   "outputs": [
    {
     "data": {
      "text/plain": [
       "array([[-4.87799133e-14,  1.05452922e-16,  6.29981523e-14,\n",
       "         1.00000000e+00],\n",
       "       [-1.08547005e-13,  9.31514828e-14, -2.71845779e-13,\n",
       "        -3.00626418e-17],\n",
       "       [ 2.90354088e-17,  1.10474886e-17,  1.33801383e-11,\n",
       "         1.00000000e+00]])"
      ]
     },
     "execution_count": 126,
     "metadata": {},
     "output_type": "execute_result"
    }
   ],
   "source": [
    "def matrix_gen(uv, p):\n",
    "        u=uv[0]   ## creating u row\n",
    "        b.append(u)\n",
    "        row_u=p\n",
    "        row_u= row_u+[0,0,0,0]\n",
    "        row_u= row_u+[u*p[0],u*p[1],u*p[2],1]\n",
    "   \n",
    "        v=uv[1] ## creating v row\n",
    "        b.append(v)\n",
    "        row_v=[0,0,0,0]\n",
    "        row_v=row_v+p\n",
    "        row_v= row_v+[v*p[0],v*p[1],v*p[2],1]\n",
    "    \n",
    "        row_uv=row_u+row_v\n",
    "    \n",
    "        return row_uv\n",
    "    \n",
    "def b_mat(uv):\n",
    "        u=uv[0]   ## creating u \n",
    "        b.append(u)\n",
    "        v=uv[1] ## creating v \n",
    "        b.append(v)\n",
    "        return b\n",
    "    \n",
    "    \n",
    "\n",
    "    \n",
    "    \n",
    "v_u_list=[[880 ,214],[43, 203],\n",
    "[270, 197],\n",
    "\n",
    "[886 ,347],\n",
    "\n",
    "[745 ,302],\n",
    "\n",
    "[943 ,128],\n",
    "\n",
    "[476 ,590],\n",
    "\n",
    "[419 ,214],\n",
    "\n",
    "[317 ,335],\n",
    "[783 ,521],\n",
    "\n",
    "[235, 427],\n",
    "\n",
    "[665, 429],\n",
    "\n",
    "[655 ,362],\n",
    "\n",
    "[427 ,333],\n",
    "[412 ,415],\n",
    "[746,351],\n",
    "\n",
    "[434,415],\n",
    "\n",
    "[525 ,234],\n",
    "[716, 308],\n",
    "[602, 187]]\n",
    "points=[[312.747, 309.140, 30.086],\n",
    "\n",
    "[305.796, 311.649 ,30.356],\n",
    "\n",
    "[307.694 ,312.358 ,30.418],\n",
    "\n",
    "[310.149, 307.186 ,29.298],\n",
    "\n",
    "[311.937, 310.105 ,29.216],\n",
    "\n",
    "[311.202, 307.572 ,30.682],\n",
    "\n",
    "[307.106, 306.876 ,28.660],\n",
    "\n",
    "[309.317, 312.490 ,30.230],\n",
    "\n",
    "[307.435, 310.151 ,29.318],\n",
    "\n",
    "[308.253, 306.300 ,28.881],\n",
    "\n",
    "[306.650, 309.301 ,28.905],\n",
    "\n",
    "[308.069 ,306.831 ,29.189],\n",
    "\n",
    "[309.671, 308.834 ,29.029],\n",
    "\n",
    "[308.255, 309.955 ,29.267],\n",
    "\n",
    "[307.546, 308.613 ,28.963],\n",
    "\n",
    "[311.036, 309.206 ,28.913],\n",
    "\n",
    "[307.518, 308.175 ,29.069],\n",
    "\n",
    "[309.950, 311.262 ,29.990],\n",
    "\n",
    "[312.160, 310.772 ,29.080],\n",
    "\n",
    "[311.988, 312.709 ,30.514]]\n",
    "\n",
    "matrix=[]\n",
    "b=[]\n",
    "for i in v_u_list:\n",
    "        j=0\n",
    "        matrix=matrix+matrix_gen(i, points[j])\n",
    "        b=b+b_mat(i)\n",
    "        j=j+1\n",
    "\n",
    "        \n",
    "# reshaping the matrix to 11xlen points\n",
    "matrix=np.reshape(matrix,(2*len(v_u_list),11))\n",
    "matrix=np.matrix(matrix)\n",
    "# print(matrix)\n",
    "\n",
    "b=np.matrix(b)\n",
    "b=np.transpose\n",
    "# M =np.linalg.lstsq(matrix,b)\n",
    "\n",
    "# M = np.append(M,1)\n",
    "# M = np.reshape(M, (3,4))\n",
    "\n",
    "U, S, Vh = np.linalg.svd(matrix)\n",
    "\n",
    "#  V = Vh.T\n",
    "# print(Vh)\n",
    "M = Vh[-1]\n",
    "M=np.ravel(M)\n",
    "# print(M)\n",
    "M=np.append(M,[1], axis=None)\n",
    "M = np.reshape(M, (3,4))\n",
    "M"
   ]
  },
  {
   "cell_type": "code",
   "execution_count": 115,
   "id": "cd871f28",
   "metadata": {},
   "outputs": [
    {
     "data": {
      "text/plain": [
       "(array([[-4.09901733e-01,  9.12129282e-01,  8.61309109e-04],\n",
       "        [-9.12129656e-01, -4.09901789e-01, -1.19572031e-04],\n",
       "        [ 2.43986993e-04, -8.34638364e-04,  9.99999622e-01]]),\n",
       " array([[ 1.19003921e-13, -8.50094526e-14,  2.25400124e-13],\n",
       "        [ 0.00000000e+00, -3.80867819e-14,  1.57724953e-13],\n",
       "        [ 0.00000000e+00,  0.00000000e+00,  1.33802200e-11]]))"
      ]
     },
     "execution_count": 115,
     "metadata": {},
     "output_type": "execute_result"
    }
   ],
   "source": [
    "# \n",
    "\n",
    "H,h=np.hsplit(M, np.array([3, 6]))[0],np.hsplit(M, np.array([3, 6]))[1]\n",
    "# H_inv= Rt* Kinv\n",
    "H_inv=np.linalg.inv(H)\n",
    "# Qr decomposition of H\n",
    "Rt_Kinv=np.linalg.qr(H)\n",
    "Rt_Kinv"
   ]
  },
  {
   "cell_type": "markdown",
   "id": "09343cbc",
   "metadata": {},
   "source": [
    "Question 10"
   ]
  },
  {
   "cell_type": "code",
   "execution_count": 125,
   "id": "7ed164c2",
   "metadata": {},
   "outputs": [
    {
     "data": {
      "text/plain": [
       "matrix([[712.],\n",
       "        [912.],\n",
       "        [  1.]])"
      ]
     },
     "execution_count": 125,
     "metadata": {},
     "output_type": "execute_result"
    }
   ],
   "source": [
    "# x=MX\n",
    "\n",
    "M=[512, -800, 0, 800,\n",
    "512, 0, -800, 1600,\n",
    "1 ,0 ,0 ,0]\n",
    "M=np.reshape(M,(3,4))\n",
    "M=np.matrix(M)\n",
    "Xt=[4,0,0,1]\n",
    "Xt=np.matrix(Xt)\n",
    "X=np.transpose(Xt)\n",
    "x=M*X\n",
    "x/4\n"
   ]
  }
 ],
 "metadata": {
  "kernelspec": {
   "display_name": "Python 3 (ipykernel)",
   "language": "python",
   "name": "python3"
  },
  "language_info": {
   "codemirror_mode": {
    "name": "ipython",
    "version": 3
   },
   "file_extension": ".py",
   "mimetype": "text/x-python",
   "name": "python",
   "nbconvert_exporter": "python",
   "pygments_lexer": "ipython3",
   "version": "3.9.12"
  }
 },
 "nbformat": 4,
 "nbformat_minor": 5
}
