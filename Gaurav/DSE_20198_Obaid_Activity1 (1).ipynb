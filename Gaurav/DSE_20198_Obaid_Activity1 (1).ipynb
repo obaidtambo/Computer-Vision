{
 "cells": [
  {
   "cell_type": "markdown",
   "id": "e925dd42",
   "metadata": {},
   "source": [
    "EXERCISE 1"
   ]
  },
  {
   "cell_type": "code",
   "execution_count": 8,
   "id": "aeb737fe",
   "metadata": {
    "scrolled": true
   },
   "outputs": [
    {
     "data": {
      "text/plain": [
       "int"
      ]
     },
     "execution_count": 8,
     "metadata": {},
     "output_type": "execute_result"
    }
   ],
   "source": [
    "type(6)\n"
   ]
  },
  {
   "cell_type": "code",
   "execution_count": 9,
   "id": "ac785a27",
   "metadata": {},
   "outputs": [
    {
     "data": {
      "text/plain": [
       "float"
      ]
     },
     "execution_count": 9,
     "metadata": {},
     "output_type": "execute_result"
    }
   ],
   "source": [
    "type(6.0)"
   ]
  },
  {
   "cell_type": "code",
   "execution_count": 11,
   "id": "61fad364",
   "metadata": {},
   "outputs": [
    {
     "data": {
      "text/plain": [
       "float"
      ]
     },
     "execution_count": 11,
     "metadata": {},
     "output_type": "execute_result"
    }
   ],
   "source": [
    "type(5+3.14)"
   ]
  },
  {
   "cell_type": "code",
   "execution_count": 14,
   "id": "c62fc6f0",
   "metadata": {},
   "outputs": [
    {
     "data": {
      "text/plain": [
       "7"
      ]
     },
     "execution_count": 14,
     "metadata": {},
     "output_type": "execute_result"
    }
   ],
   "source": [
    "int(7.9999999)"
   ]
  },
  {
   "cell_type": "code",
   "execution_count": null,
   "id": "7fc5c8fa",
   "metadata": {},
   "outputs": [],
   "source": [
    "float(6)"
   ]
  },
  {
   "cell_type": "markdown",
   "id": "fbd0c89d",
   "metadata": {},
   "source": [
    "EXERCISE 2"
   ]
  },
  {
   "cell_type": "code",
   "execution_count": 26,
   "id": "62dac577",
   "metadata": {},
   "outputs": [],
   "source": [
    "x=2\n",
    "x+=1"
   ]
  },
  {
   "cell_type": "code",
   "execution_count": 27,
   "id": "47fdccab",
   "metadata": {},
   "outputs": [
    {
     "data": {
      "text/plain": [
       "3"
      ]
     },
     "execution_count": 27,
     "metadata": {},
     "output_type": "execute_result"
    }
   ],
   "source": [
    "x"
   ]
  },
  {
   "cell_type": "code",
   "execution_count": 28,
   "id": "2e16cee5",
   "metadata": {},
   "outputs": [
    {
     "data": {
      "text/plain": [
       "4.0"
      ]
     },
     "execution_count": 28,
     "metadata": {},
     "output_type": "execute_result"
    }
   ],
   "source": [
    "x=float(x)+1\n",
    "x"
   ]
  },
  {
   "cell_type": "markdown",
   "id": "eebdd4cc",
   "metadata": {},
   "source": [
    "EXERCISE 3"
   ]
  },
  {
   "cell_type": "code",
   "execution_count": 29,
   "id": "3834e5a6",
   "metadata": {},
   "outputs": [
    {
     "ename": "SyntaxError",
     "evalue": "invalid syntax (2022791428.py, line 1)",
     "output_type": "error",
     "traceback": [
      "\u001b[1;36m  Input \u001b[1;32mIn [29]\u001b[1;36m\u001b[0m\n\u001b[1;33m    1st_number=1\u001b[0m\n\u001b[1;37m     ^\u001b[0m\n\u001b[1;31mSyntaxError\u001b[0m\u001b[1;31m:\u001b[0m invalid syntax\n"
     ]
    }
   ],
   "source": [
    "1st_number=1"
   ]
  },
  {
   "cell_type": "code",
   "execution_count": 31,
   "id": "dd7c3634",
   "metadata": {},
   "outputs": [],
   "source": [
    "first_number=1"
   ]
  },
  {
   "cell_type": "code",
   "execution_count": 32,
   "id": "f67dfa5e",
   "metadata": {},
   "outputs": [
    {
     "ename": "SyntaxError",
     "evalue": "invalid syntax (3369807146.py, line 1)",
     "output_type": "error",
     "traceback": [
      "\u001b[1;36m  Input \u001b[1;32mIn [32]\u001b[1;36m\u001b[0m\n\u001b[1;33m    my_$=1000.0\u001b[0m\n\u001b[1;37m       ^\u001b[0m\n\u001b[1;31mSyntaxError\u001b[0m\u001b[1;31m:\u001b[0m invalid syntax\n"
     ]
    }
   ],
   "source": [
    "my_$=1000.0"
   ]
  },
  {
   "cell_type": "code",
   "execution_count": 33,
   "id": "c29d5c71",
   "metadata": {},
   "outputs": [],
   "source": [
    "my_money=1000.0"
   ]
  },
  {
   "cell_type": "markdown",
   "id": "94d30d8d",
   "metadata": {},
   "source": [
    "EXERCISE 4"
   ]
  },
  {
   "cell_type": "code",
   "execution_count": 36,
   "id": "fb672621",
   "metadata": {},
   "outputs": [
    {
     "data": {
      "text/plain": [
       "10"
      ]
     },
     "execution_count": 36,
     "metadata": {},
     "output_type": "execute_result"
    }
   ],
   "source": [
    "x=5\n",
    "y=2\n",
    "x+x-y^2\n"
   ]
  },
  {
   "cell_type": "code",
   "execution_count": 37,
   "id": "2f3d84af",
   "metadata": {},
   "outputs": [
    {
     "data": {
      "text/plain": [
       "1"
      ]
     },
     "execution_count": 37,
     "metadata": {},
     "output_type": "execute_result"
    }
   ],
   "source": [
    "x,y=8,5\n",
    "int(x/y)"
   ]
  },
  {
   "cell_type": "markdown",
   "id": "444cb48b",
   "metadata": {},
   "source": [
    "EXERCISE 5"
   ]
  },
  {
   "cell_type": "code",
   "execution_count": 38,
   "id": "4bd178cd",
   "metadata": {},
   "outputs": [],
   "source": [
    "# This is a comment"
   ]
  },
  {
   "cell_type": "code",
   "execution_count": 40,
   "id": "f528b1bf",
   "metadata": {},
   "outputs": [],
   "source": [
    "#Set pi equal tp 3.14\n",
    "pi=3.14"
   ]
  },
  {
   "cell_type": "code",
   "execution_count": 41,
   "id": "8ed0ca23",
   "metadata": {},
   "outputs": [],
   "source": [
    " pi=3.14 #Set pi equal tp 3.14 "
   ]
  },
  {
   "cell_type": "markdown",
   "id": "5c35d423",
   "metadata": {},
   "source": [
    "EXERCISE 6"
   ]
  },
  {
   "cell_type": "code",
   "execution_count": 2,
   "id": "b38af24a",
   "metadata": {},
   "outputs": [
    {
     "name": "stdout",
     "output_type": "stream",
     "text": [
      "what's your name...eh? Obaid\n",
      " Hello!, Obaid.\n"
     ]
    }
   ],
   "source": [
    "name=input(\"what's your name...eh? \")\n",
    "print(\" Hello!, \"+ name +\".\")"
   ]
  },
  {
   "cell_type": "markdown",
   "id": "37212952",
   "metadata": {},
   "source": [
    "EXERCISE 7"
   ]
  },
  {
   "cell_type": "code",
   "execution_count": null,
   "id": "c1d102a7",
   "metadata": {},
   "outputs": [],
   "source": [
    "over_18=True\n",
    "type(over_18)"
   ]
  },
  {
   "cell_type": "markdown",
   "id": "cc9b0fb0",
   "metadata": {},
   "source": [
    "EXERCISE 8"
   ]
  },
  {
   "cell_type": "code",
   "execution_count": 49,
   "id": "828f4969",
   "metadata": {},
   "outputs": [
    {
     "data": {
      "text/plain": [
       "True"
      ]
     },
     "execution_count": 49,
     "metadata": {},
     "output_type": "execute_result"
    }
   ],
   "source": [
    "age=20\n",
    "age>=20 and age<=21"
   ]
  },
  {
   "cell_type": "code",
   "execution_count": 52,
   "id": "0f0ada8e",
   "metadata": {},
   "outputs": [
    {
     "data": {
      "text/plain": [
       "True"
      ]
     },
     "execution_count": 52,
     "metadata": {},
     "output_type": "execute_result"
    }
   ],
   "source": [
    "age!=21"
   ]
  },
  {
   "cell_type": "code",
   "execution_count": 53,
   "id": "2cd2fc99",
   "metadata": {},
   "outputs": [
    {
     "data": {
      "text/plain": [
       "False"
      ]
     },
     "execution_count": 53,
     "metadata": {},
     "output_type": "execute_result"
    }
   ],
   "source": [
    "age==19"
   ]
  },
  {
   "cell_type": "code",
   "execution_count": 54,
   "id": "c671ba37",
   "metadata": {},
   "outputs": [
    {
     "data": {
      "text/plain": [
       "True"
      ]
     },
     "execution_count": 54,
     "metadata": {},
     "output_type": "execute_result"
    }
   ],
   "source": [
    "6==6.0"
   ]
  },
  {
   "cell_type": "code",
   "execution_count": 55,
   "id": "23e3b71f",
   "metadata": {},
   "outputs": [
    {
     "data": {
      "text/plain": [
       "False"
      ]
     },
     "execution_count": 55,
     "metadata": {},
     "output_type": "execute_result"
    }
   ],
   "source": [
    "6=='6'"
   ]
  },
  {
   "cell_type": "code",
   "execution_count": 56,
   "id": "06dd00b0",
   "metadata": {},
   "outputs": [
    {
     "data": {
      "text/plain": [
       "True"
      ]
     },
     "execution_count": 56,
     "metadata": {},
     "output_type": "execute_result"
    }
   ],
   "source": [
    "(20<=age and age <30) or (30<=age and age<40)"
   ]
  },
  {
   "cell_type": "code",
   "execution_count": 57,
   "id": "1ce659b0",
   "metadata": {},
   "outputs": [
    {
     "data": {
      "text/plain": [
       "True"
      ]
     },
     "execution_count": 57,
     "metadata": {},
     "output_type": "execute_result"
    }
   ],
   "source": [
    "(20<=age<30) or (30<=age<40)"
   ]
  },
  {
   "cell_type": "markdown",
   "id": "de9d7f0d",
   "metadata": {},
   "source": [
    "EXERCISE 9"
   ]
  },
  {
   "cell_type": "code",
   "execution_count": 60,
   "id": "135e478f",
   "metadata": {},
   "outputs": [
    {
     "name": "stdout",
     "output_type": "stream",
     "text": [
      "At least you can vote.\n",
      "Poker will have to wait.\n"
     ]
    }
   ],
   "source": [
    "age = 20\n",
    "if age >= 18 and age < 21:\n",
    "    print('At least you can vote.')\n",
    "    print('Poker will have to wait.')"
   ]
  },
  {
   "cell_type": "code",
   "execution_count": 61,
   "id": "8be04f4d",
   "metadata": {},
   "outputs": [
    {
     "name": "stdout",
     "output_type": "stream",
     "text": [
      "You can vote.\n"
     ]
    }
   ],
   "source": [
    "if age >= 18:\n",
    "    print('You can vote.')\n",
    "if age >= 21:\n",
    "    print('You can play poker.')"
   ]
  },
  {
   "cell_type": "markdown",
   "id": "41224e53",
   "metadata": {},
   "source": [
    "EXERCISE 10"
   ]
  },
  {
   "cell_type": "code",
   "execution_count": 62,
   "id": "7731c934",
   "metadata": {},
   "outputs": [
    {
     "name": "stdout",
     "output_type": "stream",
     "text": [
      "Welcome to our voting program.\n"
     ]
    }
   ],
   "source": [
    "age = 20\n",
    "if age < 18:\n",
    "    print('You aren\\'t old enough to vote.')\n",
    "else:\n",
    "    print('Welcome to our voting program.')"
   ]
  },
  {
   "cell_type": "code",
   "execution_count": 63,
   "id": "f87c8c96",
   "metadata": {},
   "outputs": [
    {
     "name": "stdout",
     "output_type": "stream",
     "text": [
      "Welcome to our voting program.\n"
     ]
    }
   ],
   "source": [
    "if age >= 18:\n",
    "    print('Welcome to our voting program.')\n",
    "else:\n",
    "    print('You aren\\'t old enough to vote.')"
   ]
  },
  {
   "cell_type": "markdown",
   "id": "6b7ef809",
   "metadata": {},
   "source": [
    "EXERCISE"
   ]
  },
  {
   "cell_type": "code",
   "execution_count": 1,
   "id": "669c8b26",
   "metadata": {},
   "outputs": [
    {
     "name": "stdout",
     "output_type": "stream",
     "text": [
      "Hi ! Please enter your name:Obaid\n",
      "Welcome Obaid !\n"
     ]
    }
   ],
   "source": [
    "name_input = input('Hi ! Please enter your name:')\n",
    "print(f\"Welcome {name_input} !\")"
   ]
  },
  {
   "cell_type": "code",
   "execution_count": 3,
   "id": "61e70b03",
   "metadata": {},
   "outputs": [
    {
     "name": "stdout",
     "output_type": "stream",
     "text": [
      "Hi , enter the hours : 12\n",
      "Enter the Rate per hour :12\n",
      "Gross pay = 144.0 \n"
     ]
    }
   ],
   "source": [
    "input_hours = float(input('Hi , enter the hours : '))\n",
    "input_rate = float(input('Enter the Rate per hour :'))\n",
    "gross_pay = input_hours * input_rate\n",
    "print(f\"Gross pay = {gross_pay} \")"
   ]
  },
  {
   "cell_type": "code",
   "execution_count": 4,
   "id": "262594e3",
   "metadata": {},
   "outputs": [
    {
     "name": "stdout",
     "output_type": "stream",
     "text": [
      "The value is :  8 and the type is:  <class 'int'>\n",
      "The value is :  8.5 and the type is:  <class 'float'>\n",
      "The value is :  5.666666666666667 and the type is:  <class 'float'>\n",
      "The value is : 11 and the type is:  <class 'int'>\n"
     ]
    }
   ],
   "source": [
    "width = 17\n",
    "height = 12.0\n",
    "\n",
    "print(\"The value is : \", width // 2, \"and the type is: \" ,type(width // 2))\n",
    "print(\"The value is : \", width / 2.0 ,\"and the type is: \" , type(width / 2.0))\n",
    "print(\"The value is : \", width / 3 ,\"and the type is: \" , type(width / 3))\n",
    "print(\"The value is :\" , 1 + 2 * 5,\"and the type is: \" , type(1 + 2 * 5))"
   ]
  },
  {
   "cell_type": "code",
   "execution_count": 5,
   "id": "9cd41867",
   "metadata": {},
   "outputs": [
    {
     "name": "stdout",
     "output_type": "stream",
     "text": [
      "Data Science in Practice\n",
      "Data Science involves 6 step process\n",
      "1. Setting the research goal\n",
      "2. Retrieving Data\n",
      "3. Data Preparation\n",
      "4. Data Exploration\n",
      "5. Data Modeling\n",
      "6. Presentation and Automation\n"
     ]
    }
   ],
   "source": [
    "print('Data Science in Practice')\n",
    "print(\"Data Science involves 6 step process\")\n",
    "#---YOUR CODE HERE ----\n",
    "print('1. Setting the research goal')\n",
    "#In the context of this course, Setting the research goal is a way of formulating the research area and how ML tools fit into that ambit\n",
    "print('2. Retrieving Data')\n",
    "#The data associated with the research area that aligns with the goals set in the first step\n",
    "print('3. Data Preparation')\n",
    "#Preparing data in terms of parameters, sizes so as to align with the research goals.\n",
    "print('4. Data Exploration')\n",
    "#Exploring data, checking out the schema like the number of columns, data type, redundancies etc.\n",
    "print('5. Data Modeling')\n",
    "#Analyse trends,, visualize data and fine tune derived details so as to build a sort of pipeline and model\n",
    "print('6. Presentation and Automation')\n",
    "#Making the above obtained model conducive and complete in the sense that it should be easy to understand and correlate with the results and statistics so obtained."
   ]
  },
  {
   "cell_type": "code",
   "execution_count": 6,
   "id": "2a8faa07",
   "metadata": {},
   "outputs": [
    {
     "name": "stdout",
     "output_type": "stream",
     "text": [
      "Let's talk about John Smith.\n",
      "He's 176 tall.\n",
      "He's 65 heavy.\n",
      "Actually that's not too heavy.\n",
      "He's from Humanities department and his interests include Reading.\n",
      "His favorite game is Cricket and plays during weekend.\n",
      "If I add 35, 176, and 65 I get 276.\n"
     ]
    }
   ],
   "source": [
    "my_name = 'John Smith'\n",
    "my_age = 35 # its a lie\n",
    "my_height = 176 # cm\n",
    "my_weight = 65 # kg\n",
    "my_department = 'Humanities'\n",
    "my_interests = 'Reading'\n",
    "my_favorite_game = 'Cricket'\n",
    "\n",
    "print(f\"Let's talk about {my_name}.\")\n",
    "print(f\"He's {my_height} tall.\")\n",
    "print(f\"He's {my_weight} heavy.\" )\n",
    "print(f\"Actually that's not too heavy.\")\n",
    "print(f\"He's from Humanities department and his interests include Reading.\")\n",
    "print(f\"His favorite game is Cricket and plays during weekend.\")\n",
    "print(f\"If I add 35, 176, and 65 I get 276.\")\n",
    "#--like the privious Print statement, write the remaining to get the output as mentioned below"
   ]
  },
  {
   "cell_type": "code",
   "execution_count": 7,
   "id": "7a144cbc",
   "metadata": {},
   "outputs": [
    {
     "name": "stdout",
     "output_type": "stream",
     "text": [
      "The max value is :  48 and the min is:  12\n"
     ]
    }
   ],
   "source": [
    "print(\"The max value is : \", max(36,27,12,48) , \"and the min is: \" ,min(36,27,12,48))"
   ]
  }
 ],
 "metadata": {
  "kernelspec": {
   "display_name": "Python 3 (ipykernel)",
   "language": "python",
   "name": "python3"
  },
  "language_info": {
   "codemirror_mode": {
    "name": "ipython",
    "version": 3
   },
   "file_extension": ".py",
   "mimetype": "text/x-python",
   "name": "python",
   "nbconvert_exporter": "python",
   "pygments_lexer": "ipython3",
   "version": "3.9.12"
  }
 },
 "nbformat": 4,
 "nbformat_minor": 5
}
