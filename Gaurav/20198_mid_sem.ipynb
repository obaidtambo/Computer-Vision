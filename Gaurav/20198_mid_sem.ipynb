{
 "cells": [
  {
   "cell_type": "markdown",
   "id": "7f3bc664",
   "metadata": {},
   "source": [
    "Question 3"
   ]
  },
  {
   "cell_type": "code",
   "execution_count": 5,
   "id": "0f1edb11",
   "metadata": {},
   "outputs": [
    {
     "name": "stdout",
     "output_type": "stream",
     "text": [
      " Homogenous  cordinates [-18 -27  -9]\n",
      " Eucledian  cordinates (2, 3)\n"
     ]
    }
   ],
   "source": [
    "from scipy.spatial.transform import Rotation as R\n",
    "import numpy as np\n",
    "\n",
    "# 3x+2y+1=0 and 6x+4y−2=0.\n",
    "\n",
    "L=[1,1,-5]\n",
    "M=[4,-5,7]\n",
    "\n",
    "#  intersection is \n",
    "X=np.cross(np.array(L),np.array(M))\n",
    "X\n",
    "\n",
    "print(\" Homogenous  cordinates\", X)\n",
    "print(\" Eucledian  cordinates\", (2,3))\n"
   ]
  },
  {
   "cell_type": "markdown",
   "id": "aeff9951",
   "metadata": {},
   "source": [
    "Question 4"
   ]
  },
  {
   "cell_type": "code",
   "execution_count": 13,
   "id": "781d128d",
   "metadata": {},
   "outputs": [
    {
     "data": {
      "text/plain": [
       "matrix([[ 0.9   ,  0.4   ,  0.1732,  2.2196],\n",
       "        [-0.4183,  0.9043,  0.0854,  1.6465],\n",
       "        [-0.1225, -0.1493,  0.9812,  2.5225]])"
      ]
     },
     "execution_count": 13,
     "metadata": {},
     "output_type": "execute_result"
    }
   ],
   "source": [
    "R = ([[0.9,0.4,0.1732],[-0.4183,0.9043,0.0854],[-0.1225,-0.1493,0.9812]])\n",
    "R=np.matrix(R)\n",
    "\n",
    "C=[-1,-2,-3]\n",
    "\n",
    "C = ([[1,0,0,1],[0,1,0,2],[0,0,1,3]])\n",
    "\n",
    "C=np.matrix(C)\n",
    "C\n",
    "\n",
    "E=R*C\n",
    "E"
   ]
  },
  {
   "cell_type": "code",
   "execution_count": null,
   "id": "77ea0329",
   "metadata": {},
   "outputs": [],
   "source": []
  },
  {
   "cell_type": "code",
   "execution_count": 30,
   "id": "ddae9672",
   "metadata": {},
   "outputs": [
    {
     "data": {
      "image/png": "[encoded data removed]",
      "text/plain": [
       "<Figure size 432x288 with 1 Axes>"
      ]
     },
     "metadata": {
      "needs_background": "light"
     },
     "output_type": "display_data"
    }
   ],
   "source": [
    "import cv2\n",
    "import numpy as np\n",
    "from matplotlib import pyplot as plt\n",
    "\n",
    "img = plt.imread('shapes.png')\n",
    "(T, threshInv) = cv2.threshold(img, 0, 100,\n",
    "\tcv2.THRESH_BINARY_INV)\n",
    "plt.imshow(threshInv,cmap = 'gray')\n",
    "plt.title('Binary')\n",
    "plt.show()"
   ]
  },
  {
   "cell_type": "code",
   "execution_count": 37,
   "id": "018e03c6",
   "metadata": {},
   "outputs": [
    {
     "ename": "error",
     "evalue": "OpenCV(4.6.0) D:\\a\\opencv-python\\opencv-python\\opencv\\modules\\imgproc\\src\\connectedcomponents.cpp:5632: error: (-215:Assertion failed) iDepth == CV_8U || iDepth == CV_8S in function 'cv::connectedComponents_sub1'\n",
     "output_type": "error",
     "traceback": [
      "\u001b[1;31m---------------------------------------------------------------------------\u001b[0m",
      "\u001b[1;31merror\u001b[0m                                     Traceback (most recent call last)",
      "Input \u001b[1;32mIn [37]\u001b[0m, in \u001b[0;36m<cell line: 4>\u001b[1;34m()\u001b[0m\n\u001b[0;32m      1\u001b[0m (T, threshold) \u001b[38;5;241m=\u001b[39m cv2\u001b[38;5;241m.\u001b[39mthreshold(img, \u001b[38;5;241m0\u001b[39m, \u001b[38;5;241m100\u001b[39m,\n\u001b[0;32m      2\u001b[0m \tcv2\u001b[38;5;241m.\u001b[39mTHRESH_BINARY_INV)\n\u001b[0;32m      3\u001b[0m \u001b[38;5;66;03m# Apply the Component analysis function\u001b[39;00m\n\u001b[1;32m----> 4\u001b[0m analysis \u001b[38;5;241m=\u001b[39m \u001b[43mcv2\u001b[49m\u001b[38;5;241;43m.\u001b[39;49m\u001b[43mconnectedComponentsWithStats\u001b[49m\u001b[43m(\u001b[49m\u001b[43mthreshold\u001b[49m\u001b[43m,\u001b[49m\n\u001b[0;32m      5\u001b[0m \u001b[43m           \u001b[49m\u001b[38;5;241;43m4\u001b[39;49m\u001b[43m)\u001b[49m\n\u001b[0;32m      6\u001b[0m (totalLabels, label_ids, values, centroid) \u001b[38;5;241m=\u001b[39m analysis\n\u001b[0;32m      8\u001b[0m \u001b[38;5;66;03m# Initialize a new image to store\u001b[39;00m\n\u001b[0;32m      9\u001b[0m \u001b[38;5;66;03m# all the output components\u001b[39;00m\n",
      "\u001b[1;31merror\u001b[0m: OpenCV(4.6.0) D:\\a\\opencv-python\\opencv-python\\opencv\\modules\\imgproc\\src\\connectedcomponents.cpp:5632: error: (-215:Assertion failed) iDepth == CV_8U || iDepth == CV_8S in function 'cv::connectedComponents_sub1'\n"
     ]
    }
   ],
   "source": [
    "\n",
    "(T, threshold) = cv2.threshold(img, 0, 100,\n",
    "\tcv2.THRESH_BINARY_INV)\n",
    "# Apply the Component analysis function\n",
    "analysis = cv2.connectedComponentsWithStats(threshold,\n",
    "           4)\n",
    "(totalLabels, label_ids, values, centroid) = analysis\n",
    "\n",
    "# Initialize a new image to store\n",
    "# all the output components\n",
    "output = np.zeros(gray_img.shape, dtype=\"uint8\")\n",
    "\n",
    "# Loop through each component\n",
    "for i in range(1, totalLabels):\n",
    "\n",
    " # Area of the component\n",
    " area = values[i, cv2.CC_STAT_AREA]\n",
    " \n",
    " if (area > 140) and (area < 400):\n",
    "  componentMask = (label_ids == i).astype(\"uint8\") * 255\n",
    "  output = cv2.bitwise_or(output, componentMask)\n",
    "    \n",
    "plt.subplot(1,2,1),\n",
    "plt.imshow(img,cmap = 'gray')\n",
    "plt.title('Original')\n",
    "plt.show()  \n",
    "\n",
    "plt.subplot(1,2,2),\n",
    "plt.imshow(output,cmap = 'gray')\n",
    "plt.title('Components')\n",
    "plt.show()   \n",
    "\n"
   ]
  },
  {
   "cell_type": "code",
   "execution_count": 35,
   "id": "7f85d49c",
   "metadata": {},
   "outputs": [
    {
     "data": {
      "text/plain": [
       "<matplotlib.image.AxesImage at 0x198fb045730>"
      ]
     },
     "execution_count": 35,
     "metadata": {},
     "output_type": "execute_result"
    },
    {
     "data": {
      "image/png": "[encoded data removed]",
      "text/plain": [
       "<Figure size 432x288 with 1 Axes>"
      ]
     },
     "metadata": {
      "needs_background": "light"
     },
     "output_type": "display_data"
    }
   ],
   "source": [
    "# Dilation\n",
    "# define the kernel\n",
    "kernel = np.ones((3, 3), np.uint8)\n",
    " \n",
    "# invert the image\n",
    "invert = cv2.bitwise_not(threshInv)\n",
    " \n",
    "# dilate the image\n",
    "dilation = cv2.dilate(invert, kernel, iterations=1)\n",
    " \n",
    "# print the output\n",
    "plt.imshow(dilation, cmap='gray')"
   ]
  },
  {
   "cell_type": "code",
   "execution_count": 40,
   "id": "de60998d",
   "metadata": {},
   "outputs": [
    {
     "ename": "error",
     "evalue": "OpenCV(4.6.0) D:\\a\\opencv-python\\opencv-python\\opencv\\modules\\imgproc\\src\\contours.cpp:197: error: (-210:Unsupported format or combination of formats) [Start]FindContours supports only CV_8UC1 images when mode != CV_RETR_FLOODFILL otherwise supports CV_32SC1 images only in function 'cvStartFindContours_Impl'\n",
     "output_type": "error",
     "traceback": [
      "\u001b[1;31m---------------------------------------------------------------------------\u001b[0m",
      "\u001b[1;31merror\u001b[0m                                     Traceback (most recent call last)",
      "Input \u001b[1;32mIn [40]\u001b[0m, in \u001b[0;36m<cell line: 1>\u001b[1;34m()\u001b[0m\n\u001b[1;32m----> 1\u001b[0m im2,contours,hierarchy \u001b[38;5;241m=\u001b[39m \u001b[43mcv2\u001b[49m\u001b[38;5;241;43m.\u001b[39;49m\u001b[43mfindContours\u001b[49m\u001b[43m(\u001b[49m\u001b[43mthreshInv\u001b[49m\u001b[43m,\u001b[49m\u001b[43m \u001b[49m\u001b[38;5;241;43m1\u001b[39;49m\u001b[43m,\u001b[49m\u001b[43m \u001b[49m\u001b[38;5;241;43m2\u001b[39;49m\u001b[43m)\u001b[49m\n\u001b[0;32m      2\u001b[0m cnt \u001b[38;5;241m=\u001b[39m contours[\u001b[38;5;241m0\u001b[39m]\n\u001b[0;32m      3\u001b[0m M \u001b[38;5;241m=\u001b[39m cv\u001b[38;5;241m.\u001b[39mmoments(cnt)\n",
      "\u001b[1;31merror\u001b[0m: OpenCV(4.6.0) D:\\a\\opencv-python\\opencv-python\\opencv\\modules\\imgproc\\src\\contours.cpp:197: error: (-210:Unsupported format or combination of formats) [Start]FindContours supports only CV_8UC1 images when mode != CV_RETR_FLOODFILL otherwise supports CV_32SC1 images only in function 'cvStartFindContours_Impl'\n"
     ]
    }
   ],
   "source": [
    "\n",
    "\n",
    "\n",
    "im2,contours,hierarchy = cv2.findContours(threshInv, 1, 2)\n",
    "cnt = contours[0]\n",
    "M = cv.moments(cnt)\n",
    "print( M )\n"
   ]
  }
 ],
 "metadata": {
  "kernelspec": {
   "display_name": "Python 3 (ipykernel)",
   "language": "python",
   "name": "python3"
  },
  "language_info": {
   "codemirror_mode": {
    "name": "ipython",
    "version": 3
   },
   "file_extension": ".py",
   "mimetype": "text/x-python",
   "name": "python",
   "nbconvert_exporter": "python",
   "pygments_lexer": "ipython3",
   "version": "3.9.12"
  }
 },
 "nbformat": 4,
 "nbformat_minor": 5
}
