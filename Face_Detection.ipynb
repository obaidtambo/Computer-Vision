{
  "nbformat": 4,
  "nbformat_minor": 0,
  "metadata": {
    "colab": {
      "provenance": []
    },
    "kernelspec": {
      "name": "python3",
      "display_name": "Python 3"
    },
    "language_info": {
      "name": "python"
    }
  },
  "cells": [
    {
      "cell_type": "code",
      "execution_count": null,
      "metadata": {
        "id": "76_Oa3ugr3Ry"
      },
      "outputs": [],
      "source": []
    },
    {
      "cell_type": "markdown",
      "metadata": {
        "id": "aZkTM7jWdsuF"
      },
      "source": [
        "#Viola-Jones to detect faces (pre-trained algorithm)."
      ]
    },
    {
      "cell_type": "code",
      "execution_count": null,
      "metadata": {
        "colab": {
          "base_uri": "https://localhost:8080/"
        },
        "id": "uQueY9ghiF9N",
        "outputId": "8e2f8ece-2137-4200-c2ae-b730eece2787"
      },
      "outputs": [
        {
          "output_type": "stream",
          "name": "stdout",
          "text": [
            "Looking in indexes: https://pypi.org/simple, https://us-python.pkg.dev/colab-wheels/public/simple/\n",
            "Requirement already satisfied: kaggle in /usr/local/lib/python3.7/dist-packages (1.5.12)\n",
            "Requirement already satisfied: tqdm in /usr/local/lib/python3.7/dist-packages (from kaggle) (4.64.1)\n",
            "Requirement already satisfied: urllib3 in /usr/local/lib/python3.7/dist-packages (from kaggle) (1.24.3)\n",
            "Requirement already satisfied: six>=1.10 in /usr/local/lib/python3.7/dist-packages (from kaggle) (1.15.0)\n",
            "Requirement already satisfied: requests in /usr/local/lib/python3.7/dist-packages (from kaggle) (2.23.0)\n",
            "Requirement already satisfied: python-dateutil in /usr/local/lib/python3.7/dist-packages (from kaggle) (2.8.2)\n",
            "Requirement already satisfied: python-slugify in /usr/local/lib/python3.7/dist-packages (from kaggle) (6.1.2)\n",
            "Requirement already satisfied: certifi in /usr/local/lib/python3.7/dist-packages (from kaggle) (2022.9.24)\n",
            "Requirement already satisfied: text-unidecode>=1.3 in /usr/local/lib/python3.7/dist-packages (from python-slugify->kaggle) (1.3)\n",
            "Requirement already satisfied: idna<3,>=2.5 in /usr/local/lib/python3.7/dist-packages (from requests->kaggle) (2.10)\n",
            "Requirement already satisfied: chardet<4,>=3.0.2 in /usr/local/lib/python3.7/dist-packages (from requests->kaggle) (3.0.4)\n"
          ]
        }
      ],
      "source": [
        "!pip install kaggle"
      ]
    },
    {
      "cell_type": "code",
      "execution_count": null,
      "metadata": {
        "id": "m6QFPFV5iIBE"
      },
      "outputs": [],
      "source": [
        "!cp /content/kaggle.json ~/.kaggle/kaggle.json"
      ]
    },
    {
      "cell_type": "code",
      "execution_count": null,
      "metadata": {
        "id": "msu-wa7CgAJs"
      },
      "outputs": [],
      "source": [
        "!kaggle datasets download -d jessicali9530/lfw-dataset"
      ]
    },
    {
      "cell_type": "code",
      "execution_count": null,
      "metadata": {
        "id": "YSWYVKiMgAGO"
      },
      "outputs": [],
      "source": [
        "!kaggle datasets download -d ciplab/real-and-fake-face-detection"
      ]
    },
    {
      "cell_type": "code",
      "execution_count": null,
      "metadata": {
        "id": "OrJJ53CngHmM"
      },
      "outputs": [],
      "source": [
        "!unzip real-and-fake-face-detection.zip"
      ]
    },
    {
      "cell_type": "code",
      "execution_count": null,
      "metadata": {
        "id": "rwSNl0MbgHj1"
      },
      "outputs": [],
      "source": [
        "!unzip lfw-dataset.zip"
      ]
    },
    {
      "cell_type": "code",
      "execution_count": null,
      "metadata": {
        "id": "WP7tDpexdsZP"
      },
      "outputs": [],
      "source": [
        "original = cv2.imread('./girl.jpg')\n",
        "cv2_imshow(original)"
      ]
    },
    {
      "cell_type": "code",
      "execution_count": null,
      "metadata": {
        "id": "KllG2AmkgHgU"
      },
      "outputs": [],
      "source": [
        "grayscale_image = cv2.cvtColor(original, cv2.COLOR_BGR2GRAY)\n",
        "face_cascade = cv2.CascadeClassifier(cv2.data.haarcascades + 'haarcascade_frontalface_alt.xml')\n",
        "detected_faces = face_cascade.detectMultiScale(grayscale_image)\n",
        "for (column, row, width, height) in detected_faces:\n",
        "  cv2.rectangle(original, (column, row),(column + width, row + height), (0, 255, 0), 2)\n",
        "plt.imshow(cv2.cvtColor(original, cv2.COLOR_BGR2RGB))\n",
        "plt.axis(\"off\")\n",
        "plt.show()"
      ]
    },
    {
      "cell_type": "code",
      "execution_count": null,
      "metadata": {
        "id": "-TWJA6k1gHdc"
      },
      "outputs": [],
      "source": [
        "import dlib\n",
        "img6 = cv2.imread('./girl.jpg')\n",
        "gray = cv2.cvtColor(img6, cv2.COLOR_BGR2GRAY)\n",
        "hogFaceDetector = dlib.get_frontal_face_detector()\n",
        "faces = hogFaceDetector(gray, 1)\n",
        "for (i, rect) in enumerate(faces):\n",
        "  x = rect.left()\n",
        "  y = rect.top()\n",
        "  w = rect.right() - x\n",
        "  h = rect.bottom() - y\n",
        "  cv2.rectangle(img6, (x, y), (x+w, y+h), (0, 255, 0), 2)\n",
        "cv2_imshow(img6)"
      ]
    }
  ]
}