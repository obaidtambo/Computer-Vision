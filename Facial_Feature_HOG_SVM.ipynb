{
  "nbformat": 4,
  "nbformat_minor": 0,
  "metadata": {
    "colab": {
      "provenance": []
    },
    "kernelspec": {
      "name": "python3",
      "display_name": "Python 3"
    },
    "language_info": {
      "name": "python"
    }
  },
  "cells": [
    {
      "cell_type": "code",
      "execution_count": null,
      "metadata": {
        "id": "jhlVJfX8snUW"
      },
      "outputs": [],
      "source": []
    },
    {
      "cell_type": "markdown",
      "metadata": {
        "id": "m5IWlKErH7Fp"
      },
      "source": [
        "# HoG features to classify face versus non-faces using SVM"
      ]
    },
    {
      "cell_type": "code",
      "execution_count": null,
      "metadata": {
        "colab": {
          "background_save": true
        },
        "id": "tgCj8vWUI81f"
      },
      "outputs": [],
      "source": [
        "from skimage import feature\n",
        "import glob\n",
        "images = []\n",
        "labels = []\n",
        "path = \"/content/real_and_fake_face/training_real/*.*\"\n",
        "for file in glob.glob(path):\n",
        "  img6 = cv2.imread(file)\n",
        "  img6 = cv2.resize(img6, (128, 256))\n",
        "  hog_desc = feature.hog(img6, orientations=9, pixels_per_cell=(8, 8),\n",
        "                         cells_per_block=(2, 2), \n",
        "                         transform_sqrt=True, block_norm='L2-Hys')\n",
        "  images.append(hog_desc)\n",
        "  labels.append(1)\n",
        "# print(labels)"
      ]
    },
    {
      "cell_type": "code",
      "execution_count": null,
      "metadata": {
        "id": "y5BTV-ARk4XV"
      },
      "outputs": [],
      "source": [
        "path = \"/content/real_and_fake_face/training_fake/*.*\"\n",
        "for file in glob.glob(path):\n",
        "  img = cv2.imread(file)\n",
        "  img = cv2.resize(img, (128, 256))\n",
        "  hog_desc = feature.hog(img, orientations=9, pixels_per_cell=(8, 8), \n",
        "                        cells_per_block=(2,2), transform_sqrt=True,\n",
        "                         block_norm='L2-Hys')\n",
        "  images.append(hog_desc)\n",
        "  labels.append(0)"
      ]
    },
    {
      "cell_type": "code",
      "execution_count": null,
      "metadata": {
        "colab": {
          "base_uri": "https://localhost:8080/"
        },
        "id": "QPBly-Rpk8_O",
        "outputId": "d2cecc15-f63d-488f-a9f1-7b47277f92c8"
      },
      "outputs": [
        {
          "name": "stdout",
          "output_type": "stream",
          "text": [
            "2041\n"
          ]
        }
      ],
      "source": [
        "print(len(images))"
      ]
    },
    {
      "cell_type": "code",
      "execution_count": null,
      "metadata": {
        "id": "UjhYM4RqlJiP"
      },
      "outputs": [],
      "source": [
        "from sklearn.model_selection import train_test_split\n",
        "X_train, X_test, y_train, y_test = train_test_split(images, labels, test_size=0.25, random_state=42)"
      ]
    },
    {
      "cell_type": "code",
      "execution_count": null,
      "metadata": {
        "id": "UVzcVl1ClJgO"
      },
      "outputs": [],
      "source": [
        "from sklearn.svm import LinearSVC\n",
        "svm_model = LinearSVC(random_state = 42, tol=1e-5)\n",
        "clf = svm_model.fit(X_train, y_train)"
      ]
    },
    {
      "cell_type": "code",
      "execution_count": null,
      "metadata": {
        "colab": {
          "base_uri": "https://localhost:8080/"
        },
        "id": "F3GOI6oqlJdk",
        "outputId": "dc4d7aa5-a5e8-4cdd-bb3d-83ef3c489fee"
      },
      "outputs": [
        {
          "name": "stdout",
          "output_type": "stream",
          "text": [
            "54.01174168297456\n"
          ]
        }
      ],
      "source": [
        "from sklearn.metrics import accuracy_score\n",
        "predictions = svm_model.predict(X_test)\n",
        "print(accuracy_score(y_test, predictions)*100)"
      ]
    }
  ]
}